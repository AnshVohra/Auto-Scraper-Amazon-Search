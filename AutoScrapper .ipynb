{
 "cells": [
  {
   "cell_type": "code",
   "execution_count": 23,
   "id": "e0e20a16",
   "metadata": {},
   "outputs": [],
   "source": [
    "from autoscraper import AutoScraper"
   ]
  },
  {
   "cell_type": "code",
   "execution_count": 24,
   "id": "4bd262ea",
   "metadata": {},
   "outputs": [],
   "source": [
    "URL = 'https://www.amazon.in/s?k=iphone&ref=nb_sb_noss_2'"
   ]
  },
  {
   "cell_type": "code",
   "execution_count": 25,
   "id": "a90fcc99",
   "metadata": {},
   "outputs": [],
   "source": [
    "wanted_list=[\"67,900\",\"New Apple iPhone 12 Mini (128GB) - White\",\"27,158\"]"
   ]
  },
  {
   "cell_type": "code",
   "execution_count": 26,
   "id": "b28347a0",
   "metadata": {},
   "outputs": [],
   "source": [
    "scraper = AutoScraper()"
   ]
  },
  {
   "cell_type": "code",
   "execution_count": 27,
   "id": "7e84493b",
   "metadata": {},
   "outputs": [],
   "source": [
    "result = scraper.build(URL,wanted_list)"
   ]
  },
  {
   "cell_type": "code",
   "execution_count": 29,
   "id": "ac86fcb0",
   "metadata": {},
   "outputs": [
    {
     "data": {
      "text/plain": [
       "['80,650',\n",
       " '67,900',\n",
       " '61,900',\n",
       " '1,24,700',\n",
       " '59,900',\n",
       " '92,900',\n",
       " '1,15,100',\n",
       " '84,900',\n",
       " '75,900',\n",
       " '76,900',\n",
       " '79,899',\n",
       " '62,899',\n",
       " 'New Apple iPhone 12 (128GB) - Blue',\n",
       " 'New Apple iPhone 12 Mini (128GB) - White',\n",
       " 'New Apple iPhone 12 Mini (64GB) - Black',\n",
       " 'New Apple iPhone 12 Pro Max (128GB) - Pacific Blue',\n",
       " 'New Apple iPhone 11 (128GB) - Purple',\n",
       " 'Apple iPhone 11 Pro Max (256GB) - Midnight Green',\n",
       " 'New Apple iPhone 12 Pro (128GB) - Pacific Blue',\n",
       " 'Apple iPhone 11 Pro Max (64GB) - Midnight Green',\n",
       " 'New Apple iPhone 12 (64GB) - Black',\n",
       " 'New Apple iPhone 12 (64GB) - Blue',\n",
       " 'Apple iPhone 11 Pro (64GB) - Silver',\n",
       " 'Apple iPhone 11 Pro Max (64GB) - Space Grey',\n",
       " 'New Apple iPhone 12 Mini (64GB) - White',\n",
       " 'New Apple iPhone 12 (128GB) - White',\n",
       " '2,773',\n",
       " '3,795',\n",
       " '650',\n",
       " '27,158',\n",
       " '900',\n",
       " '283',\n",
       " '999']"
      ]
     },
     "execution_count": 29,
     "metadata": {},
     "output_type": "execute_result"
    }
   ],
   "source": [
    "result"
   ]
  },
  {
   "cell_type": "code",
   "execution_count": 30,
   "id": "3908fb17",
   "metadata": {},
   "outputs": [
    {
     "data": {
      "text/plain": [
       "{'rule_1e72': ['80,650',\n",
       "  '67,900',\n",
       "  '61,900',\n",
       "  '1,24,700',\n",
       "  '59,900',\n",
       "  '92,900',\n",
       "  '1,15,100',\n",
       "  '84,900',\n",
       "  '62,899',\n",
       "  '80,650',\n",
       "  '75,900',\n",
       "  '76,900',\n",
       "  '79,899',\n",
       "  '84,900'],\n",
       " 'rule_q6f0': ['New Apple iPhone 12 (128GB) - Blue',\n",
       "  'New Apple iPhone 12 Mini (128GB) - White',\n",
       "  'New Apple iPhone 12 Mini (64GB) - Black',\n",
       "  'New Apple iPhone 12 Pro Max (128GB) - Pacific Blue',\n",
       "  'New Apple iPhone 11 (128GB) - Purple',\n",
       "  'Apple iPhone 11 Pro Max (256GB) - Midnight Green',\n",
       "  'New Apple iPhone 12 Pro (128GB) - Pacific Blue',\n",
       "  'Apple iPhone 11 Pro Max (64GB) - Midnight Green',\n",
       "  'New Apple iPhone 12 Mini (64GB) - White',\n",
       "  'New Apple iPhone 12 (128GB) - White',\n",
       "  'New Apple iPhone 12 (64GB) - Black',\n",
       "  'New Apple iPhone 12 (64GB) - Blue',\n",
       "  'Apple iPhone 11 Pro (64GB) - Silver',\n",
       "  'Apple iPhone 11 Pro Max (64GB) - Space Grey'],\n",
       " 'rule_38jd': ['New Apple iPhone 12 (128GB) - Blue',\n",
       "  'New Apple iPhone 12 Mini (128GB) - White',\n",
       "  'New Apple iPhone 12 Mini (64GB) - Black',\n",
       "  'New Apple iPhone 12 Pro Max (128GB) - Pacific Blue',\n",
       "  'New Apple iPhone 11 (128GB) - Purple',\n",
       "  'Apple iPhone 11 Pro Max (256GB) - Midnight Green',\n",
       "  'New Apple iPhone 12 Pro (128GB) - Pacific Blue',\n",
       "  'Apple iPhone 11 Pro Max (64GB) - Midnight Green',\n",
       "  'New Apple iPhone 12 Mini (64GB) - White',\n",
       "  'New Apple iPhone 12 (128GB) - White',\n",
       "  'New Apple iPhone 12 (64GB) - Black',\n",
       "  'New Apple iPhone 12 (64GB) - Blue',\n",
       "  'Apple iPhone 11 Pro (64GB) - Silver',\n",
       "  'Apple iPhone 11 Pro Max (64GB) - Space Grey'],\n",
       " 'rule_om4i': ['2,773',\n",
       "  '3,795',\n",
       "  '3,795',\n",
       "  '650',\n",
       "  '27,158',\n",
       "  '900',\n",
       "  '283',\n",
       "  '900',\n",
       "  '3,795',\n",
       "  '2,773',\n",
       "  '2,773',\n",
       "  '2,773',\n",
       "  '999',\n",
       "  '900'],\n",
       " 'rule_cpab': ['27,158', '3,795'],\n",
       " 'rule_fbty': ['27,158', '3,795']}"
      ]
     },
     "execution_count": 30,
     "metadata": {},
     "output_type": "execute_result"
    }
   ],
   "source": [
    "scraper.get_result_similar(URL,grouped=True)"
   ]
  },
  {
   "cell_type": "code",
   "execution_count": 33,
   "id": "666295c0",
   "metadata": {},
   "outputs": [],
   "source": [
    "scraper.set_rule_aliases({'rule_q6f0':'Title','rule_1e72':'Price'})\n",
    "scraper.keep_rules(['rule_q6f0','rule_1e72'])\n",
    "scraper.save('amazon-search')"
   ]
  },
  {
   "cell_type": "code",
   "execution_count": 37,
   "id": "df109fc5",
   "metadata": {},
   "outputs": [],
   "source": [
    "results=scraper.get_result_similar('https://www.amazon.in/s?k=mi+phones&ref=nb_sb_noss_2',group_by_alias=True)"
   ]
  },
  {
   "cell_type": "code",
   "execution_count": 38,
   "id": "9b931c12",
   "metadata": {},
   "outputs": [
    {
     "name": "stdout",
     "output_type": "stream",
     "text": [
      "{'Price': ['6,999', '8,799', '12,499', '10,999', '6,999', '14,499', '7,499', '8,799', '21,999', '10,499', '6,999', '12,999', '8,799', '23,999', '11,990', '10,999'], 'Title': ['Redmi 9A (Nature Green, 2GB RAM, 32GB Storage) | 2GHz Octa-core Helio G25 Processor | 5000 mAh Battery', 'Redmi 9 (Sky Blue, 4GB RAM, 64GB Storage)| 5000 mAh| 2.3GHz Mediatek Helio G35 Octa core Processor', 'Redmi Note 10 (Aqua Green, 4GB RAM, 64GB Storage)', 'Redmi Note 9 (Pebble Grey, 4GB RAM 64GB Storage) - 48MP Quad Camera & Full HD+ Display', 'Redmi 9A (Midnight Black 2GB RAM 32GB Storage) | 2GHz Octa-core Helio G25 Processor | 5000 mAh Battery', 'Redmi Note 10 (Frost White, 6GB RAM, 128GB Storage)', 'Redmi 9A(Midnight Black 3GB RAM 32GB Storage) | 2GHz Octa-core Helio G25 Processor | 5000 mAh Battery', 'Redmi 9 (Carbon Black, 4GB RAM, 64GB Storage) | 5000 mAh| 2.3GHz Mediatek Helio G35 Octa core Processor', 'Mi 10i 5G (Atlantic Blue, 6GB RAM, 128GB Storage) - 108MP Quad Camera | Snapdragon 750G Processor | Upto 2000 Additional Exchange', 'Redmi 9 Power (Fiery Red, 4GB RAM, 64GB Storage) - 6000mAh Battery |FHD+ Screen| 48MP Quad Camera', 'Redmi 9A (Sea Blue 2GB RAM 32GB Storage) | 2GHz Octa-core Helio G25 Processor | 5000 mAh Battery', 'Redmi Note 9 Pro (Interstellar Black, 4GB RAM, 64GB Storage)- Latest 8nm Snapdragon 720G & Alexa Hands-Free', 'Redmi 9 (Sporty Orange, 4GB RAM, 64GB Storage) | 5000 mAh| 2.3GHz Mediatek Helio G35 Octa core Processor', 'Mi 10i 5G (Atlantic Blue, 8GB RAM, 128GB Storage)- 108MP Quad Camera | Snapdragon 750G Processor | Upto 2000 Additional Exchange', 'Oppo A31 (Fantasy White, 6GB RAM, 128GB Storage) with No Cost EMI/Additional Exchange Offers', 'Samsung Galaxy M12 (Black,4GB RAM, 64GB Storage) 6000 mAh with 8nm Processor | True 48 MP Quad Camera | 90Hz Refresh Rate']}\n"
     ]
    }
   ],
   "source": [
    "print(results)"
   ]
  },
  {
   "cell_type": "code",
   "execution_count": 39,
   "id": "2ed40970",
   "metadata": {},
   "outputs": [
    {
     "data": {
      "text/plain": [
       "['Redmi 9A (Nature Green, 2GB RAM, 32GB Storage) | 2GHz Octa-core Helio G25 Processor | 5000 mAh Battery',\n",
       " 'Redmi 9 (Sky Blue, 4GB RAM, 64GB Storage)| 5000 mAh| 2.3GHz Mediatek Helio G35 Octa core Processor',\n",
       " 'Redmi Note 10 (Aqua Green, 4GB RAM, 64GB Storage)',\n",
       " 'Redmi Note 9 (Pebble Grey, 4GB RAM 64GB Storage) - 48MP Quad Camera & Full HD+ Display',\n",
       " 'Redmi 9A (Midnight Black 2GB RAM 32GB Storage) | 2GHz Octa-core Helio G25 Processor | 5000 mAh Battery',\n",
       " 'Redmi Note 10 (Frost White, 6GB RAM, 128GB Storage)',\n",
       " 'Redmi 9A(Midnight Black 3GB RAM 32GB Storage) | 2GHz Octa-core Helio G25 Processor | 5000 mAh Battery',\n",
       " 'Redmi 9 (Carbon Black, 4GB RAM, 64GB Storage) | 5000 mAh| 2.3GHz Mediatek Helio G35 Octa core Processor',\n",
       " 'Mi 10i 5G (Atlantic Blue, 6GB RAM, 128GB Storage) - 108MP Quad Camera | Snapdragon 750G Processor | Upto 2000 Additional Exchange',\n",
       " 'Redmi 9 Power (Fiery Red, 4GB RAM, 64GB Storage) - 6000mAh Battery |FHD+ Screen| 48MP Quad Camera',\n",
       " 'Redmi 9A (Sea Blue 2GB RAM 32GB Storage) | 2GHz Octa-core Helio G25 Processor | 5000 mAh Battery',\n",
       " 'Redmi Note 9 Pro (Interstellar Black, 4GB RAM, 64GB Storage)- Latest 8nm Snapdragon 720G & Alexa Hands-Free',\n",
       " 'Redmi 9 (Sporty Orange, 4GB RAM, 64GB Storage) | 5000 mAh| 2.3GHz Mediatek Helio G35 Octa core Processor',\n",
       " 'Mi 10i 5G (Atlantic Blue, 8GB RAM, 128GB Storage)- 108MP Quad Camera | Snapdragon 750G Processor | Upto 2000 Additional Exchange',\n",
       " 'Oppo A31 (Fantasy White, 6GB RAM, 128GB Storage) with No Cost EMI/Additional Exchange Offers',\n",
       " 'Samsung Galaxy M12 (Black,4GB RAM, 64GB Storage) 6000 mAh with 8nm Processor | True 48 MP Quad Camera | 90Hz Refresh Rate']"
      ]
     },
     "execution_count": 39,
     "metadata": {},
     "output_type": "execute_result"
    }
   ],
   "source": [
    "results['Title']"
   ]
  },
  {
   "cell_type": "code",
   "execution_count": 41,
   "id": "587ea339",
   "metadata": {},
   "outputs": [
    {
     "data": {
      "text/plain": [
       "['6,999',\n",
       " '8,799',\n",
       " '12,499',\n",
       " '10,999',\n",
       " '6,999',\n",
       " '14,499',\n",
       " '7,499',\n",
       " '8,799',\n",
       " '21,999',\n",
       " '10,499',\n",
       " '6,999',\n",
       " '12,999',\n",
       " '8,799',\n",
       " '23,999',\n",
       " '11,990',\n",
       " '10,999']"
      ]
     },
     "execution_count": 41,
     "metadata": {},
     "output_type": "execute_result"
    }
   ],
   "source": [
    "results['Price']"
   ]
  },
  {
   "cell_type": "code",
   "execution_count": 49,
   "id": "ed9d8017",
   "metadata": {},
   "outputs": [],
   "source": [
    "Price = results['Price']\n",
    "type(Price)\n",
    "Title = results['Title']"
   ]
  },
  {
   "cell_type": "code",
   "execution_count": 52,
   "id": "ca1cc623",
   "metadata": {},
   "outputs": [],
   "source": [
    "import pandas as pd\n",
    "df = pd.DataFrame(list(zip(Title,Price)),columns = ['Title', 'Price'])"
   ]
  },
  {
   "cell_type": "code",
   "execution_count": 53,
   "id": "7422cac7",
   "metadata": {},
   "outputs": [
    {
     "data": {
      "text/html": [
       "<div>\n",
       "<style scoped>\n",
       "    .dataframe tbody tr th:only-of-type {\n",
       "        vertical-align: middle;\n",
       "    }\n",
       "\n",
       "    .dataframe tbody tr th {\n",
       "        vertical-align: top;\n",
       "    }\n",
       "\n",
       "    .dataframe thead th {\n",
       "        text-align: right;\n",
       "    }\n",
       "</style>\n",
       "<table border=\"1\" class=\"dataframe\">\n",
       "  <thead>\n",
       "    <tr style=\"text-align: right;\">\n",
       "      <th></th>\n",
       "      <th>Title</th>\n",
       "      <th>Price</th>\n",
       "    </tr>\n",
       "  </thead>\n",
       "  <tbody>\n",
       "    <tr>\n",
       "      <th>0</th>\n",
       "      <td>Redmi 9A (Nature Green, 2GB RAM, 32GB Storage)...</td>\n",
       "      <td>6,999</td>\n",
       "    </tr>\n",
       "    <tr>\n",
       "      <th>1</th>\n",
       "      <td>Redmi 9 (Sky Blue, 4GB RAM, 64GB Storage)| 500...</td>\n",
       "      <td>8,799</td>\n",
       "    </tr>\n",
       "    <tr>\n",
       "      <th>2</th>\n",
       "      <td>Redmi Note 10 (Aqua Green, 4GB RAM, 64GB Storage)</td>\n",
       "      <td>12,499</td>\n",
       "    </tr>\n",
       "    <tr>\n",
       "      <th>3</th>\n",
       "      <td>Redmi Note 9 (Pebble Grey, 4GB RAM 64GB Storag...</td>\n",
       "      <td>10,999</td>\n",
       "    </tr>\n",
       "    <tr>\n",
       "      <th>4</th>\n",
       "      <td>Redmi 9A (Midnight Black 2GB RAM 32GB Storage)...</td>\n",
       "      <td>6,999</td>\n",
       "    </tr>\n",
       "    <tr>\n",
       "      <th>5</th>\n",
       "      <td>Redmi Note 10 (Frost White, 6GB RAM, 128GB Sto...</td>\n",
       "      <td>14,499</td>\n",
       "    </tr>\n",
       "    <tr>\n",
       "      <th>6</th>\n",
       "      <td>Redmi 9A(Midnight Black 3GB RAM 32GB Storage) ...</td>\n",
       "      <td>7,499</td>\n",
       "    </tr>\n",
       "    <tr>\n",
       "      <th>7</th>\n",
       "      <td>Redmi 9 (Carbon Black, 4GB RAM, 64GB Storage) ...</td>\n",
       "      <td>8,799</td>\n",
       "    </tr>\n",
       "    <tr>\n",
       "      <th>8</th>\n",
       "      <td>Mi 10i 5G (Atlantic Blue, 6GB RAM, 128GB Stora...</td>\n",
       "      <td>21,999</td>\n",
       "    </tr>\n",
       "    <tr>\n",
       "      <th>9</th>\n",
       "      <td>Redmi 9 Power (Fiery Red, 4GB RAM, 64GB Storag...</td>\n",
       "      <td>10,499</td>\n",
       "    </tr>\n",
       "    <tr>\n",
       "      <th>10</th>\n",
       "      <td>Redmi 9A (Sea Blue 2GB RAM 32GB Storage) | 2GH...</td>\n",
       "      <td>6,999</td>\n",
       "    </tr>\n",
       "    <tr>\n",
       "      <th>11</th>\n",
       "      <td>Redmi Note 9 Pro (Interstellar Black, 4GB RAM,...</td>\n",
       "      <td>12,999</td>\n",
       "    </tr>\n",
       "    <tr>\n",
       "      <th>12</th>\n",
       "      <td>Redmi 9 (Sporty Orange, 4GB RAM, 64GB Storage)...</td>\n",
       "      <td>8,799</td>\n",
       "    </tr>\n",
       "    <tr>\n",
       "      <th>13</th>\n",
       "      <td>Mi 10i 5G (Atlantic Blue, 8GB RAM, 128GB Stora...</td>\n",
       "      <td>23,999</td>\n",
       "    </tr>\n",
       "    <tr>\n",
       "      <th>14</th>\n",
       "      <td>Oppo A31 (Fantasy White, 6GB RAM, 128GB Storag...</td>\n",
       "      <td>11,990</td>\n",
       "    </tr>\n",
       "    <tr>\n",
       "      <th>15</th>\n",
       "      <td>Samsung Galaxy M12 (Black,4GB RAM, 64GB Storag...</td>\n",
       "      <td>10,999</td>\n",
       "    </tr>\n",
       "  </tbody>\n",
       "</table>\n",
       "</div>"
      ],
      "text/plain": [
       "                                                Title   Price\n",
       "0   Redmi 9A (Nature Green, 2GB RAM, 32GB Storage)...   6,999\n",
       "1   Redmi 9 (Sky Blue, 4GB RAM, 64GB Storage)| 500...   8,799\n",
       "2   Redmi Note 10 (Aqua Green, 4GB RAM, 64GB Storage)  12,499\n",
       "3   Redmi Note 9 (Pebble Grey, 4GB RAM 64GB Storag...  10,999\n",
       "4   Redmi 9A (Midnight Black 2GB RAM 32GB Storage)...   6,999\n",
       "5   Redmi Note 10 (Frost White, 6GB RAM, 128GB Sto...  14,499\n",
       "6   Redmi 9A(Midnight Black 3GB RAM 32GB Storage) ...   7,499\n",
       "7   Redmi 9 (Carbon Black, 4GB RAM, 64GB Storage) ...   8,799\n",
       "8   Mi 10i 5G (Atlantic Blue, 6GB RAM, 128GB Stora...  21,999\n",
       "9   Redmi 9 Power (Fiery Red, 4GB RAM, 64GB Storag...  10,499\n",
       "10  Redmi 9A (Sea Blue 2GB RAM 32GB Storage) | 2GH...   6,999\n",
       "11  Redmi Note 9 Pro (Interstellar Black, 4GB RAM,...  12,999\n",
       "12  Redmi 9 (Sporty Orange, 4GB RAM, 64GB Storage)...   8,799\n",
       "13  Mi 10i 5G (Atlantic Blue, 8GB RAM, 128GB Stora...  23,999\n",
       "14  Oppo A31 (Fantasy White, 6GB RAM, 128GB Storag...  11,990\n",
       "15  Samsung Galaxy M12 (Black,4GB RAM, 64GB Storag...  10,999"
      ]
     },
     "execution_count": 53,
     "metadata": {},
     "output_type": "execute_result"
    }
   ],
   "source": [
    "df"
   ]
  },
  {
   "cell_type": "code",
   "execution_count": null,
   "id": "197e5e8b",
   "metadata": {},
   "outputs": [],
   "source": []
  }
 ],
 "metadata": {
  "kernelspec": {
   "display_name": "Python 3",
   "language": "python",
   "name": "python3"
  },
  "language_info": {
   "codemirror_mode": {
    "name": "ipython",
    "version": 3
   },
   "file_extension": ".py",
   "mimetype": "text/x-python",
   "name": "python",
   "nbconvert_exporter": "python",
   "pygments_lexer": "ipython3",
   "version": "3.8.8"
  }
 },
 "nbformat": 4,
 "nbformat_minor": 5
}
